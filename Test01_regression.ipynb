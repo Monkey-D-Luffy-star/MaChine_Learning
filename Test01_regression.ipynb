{
 "cells": [
  {
   "cell_type": "code",
   "execution_count": 1,
   "metadata": {},
   "outputs": [],
   "source": [
    "import matplotlib\n",
    "import matplotlib.pyplot as plt\n",
    "matplotlib.use('Agg')\n",
    "%matplotlib inline\n",
    "import random as random\n",
    "import numpy as np\n",
    "import csv\n",
    "x_data=[338.,333.,328.,207.,226.,25.,179.,60.,208.,606.] \n",
    "y_data=[640.,633.,619.,393.,428.,27.,193.,66.,226.,1591.]\n",
    "# 计算梯度微分的函数getGrad() \n",
    "def getGrad(b,w):\n",
    "    # initial b_grad and w_grad \n",
    "    b_grad=0.0 \n",
    "    w_grad=0.0 \n",
    "    for i in range(10): \n",
    "        b_grad+=(-2.0)*(y_data[i]-(b+w*x_data[i])) \n",
    "        w_grad+=(-2.0*x_data[i])*(y_data[i]-(b+w*x_data[i])) \n",
    "    return (b_grad,w_grad)"
   ]
  },
  {
   "cell_type": "code",
   "execution_count": 2,
   "metadata": {},
   "outputs": [],
   "source": [
    "x = np.arange(-200,-100,1) # bias\n",
    "y = np.arange(-5,5,0.1) # weight\n",
    "Z = np.zeros((len(x),len(y))) # color\n",
    "X,Y = np.meshgrid(x,y)\n",
    "for i in range(len(x)):\n",
    "    for j in range(len(y)):\n",
    "        b = x[i] \n",
    "        w = y[j]\n",
    "        \n",
    "        # Z[j][i]存储的是loss\n",
    "        Z[j][i] = 0\n",
    "        for n in range(len(x_data)):\n",
    "            Z[j][i] = Z[j][i] + (y_data[n] - (b + w * x_data[n]))**2\n",
    "        Z[j][i] = Z[j][i]/len(x_data)"
   ]
  },
  {
   "cell_type": "code",
   "execution_count": 3,
   "metadata": {},
   "outputs": [],
   "source": [
    "# y_data = b + w * x_data \n",
    "b = -120 # initial b"
   ]
  },
  {
   "cell_type": "code",
   "execution_count": 4,
   "metadata": {},
   "outputs": [
    {
     "data": {
      "image/png": "[encoded data removed]",
      "text/plain": [
       "<Figure size 432x288 with 1 Axes>"
      ]
     },
     "metadata": {
      "needs_background": "light"
     },
     "output_type": "display_data"
    }
   ],
   "source": [
    "w = -4 # initial w \n",
    "lr = 0.0000001 # learni\n",
    "iteration = 100000 # 这里直接规定了迭代次数，而不是一直运行到b_grad和w_grad都为0(事 实证明这样做不太可行)\n",
    "# store initial values for plotting，我们想要最终把数据描绘在图上，因此存储过程数据 \n",
    "b_history = [b] \n",
    "w_history = [w]\n",
    "# iterations \n",
    "for i in range(iteration):\n",
    "    # get new b_grad and w_grad \n",
    "    b_grad,w_grad=getGrad(b,w)\n",
    "    \n",
    "    # update b and w \n",
    "    b -= lr * b_grad \n",
    "    w -= lr * w_grad\n",
    "    \n",
    "    #store parameters for plotting \n",
    "    b_history.append(b) \n",
    "    w_history.append(w)\n",
    "    \n",
    "# plot the figure \n",
    "plt.contourf(x,y,Z,50,alpha=0.5,cmap=plt.get_cmap('jet')) \n",
    "plt.plot([-188.4],[2.67],'x',ms=12,markeredgewidth=3,color='orange') \n",
    "plt.plot(b_history,w_history,'o-',ms=3,lw=1.5,color='black') \n",
    "plt.xlim(-200,-100) \n",
    "plt.ylim(-5,5) \n",
    "plt.xlabel(r'$b$',fontsize=16) \n",
    "plt.ylabel(r'$w$',fontsize=16) \n",
    "plt.show()"
   ]
  },
  {
   "cell_type": "code",
   "execution_count": null,
   "metadata": {},
   "outputs": [],
   "source": []
  }
 ],
 "metadata": {
  "kernelspec": {
   "display_name": "Python [conda env:root] *",
   "language": "python",
   "name": "conda-root-py"
  },
  "language_info": {
   "codemirror_mode": {
    "name": "ipython",
    "version": 3
   },
   "file_extension": ".py",
   "mimetype": "text/x-python",
   "name": "python",
   "nbconvert_exporter": "python",
   "pygments_lexer": "ipython3",
   "version": "3.7.7"
  }
 },
 "nbformat": 4,
 "nbformat_minor": 4
}
