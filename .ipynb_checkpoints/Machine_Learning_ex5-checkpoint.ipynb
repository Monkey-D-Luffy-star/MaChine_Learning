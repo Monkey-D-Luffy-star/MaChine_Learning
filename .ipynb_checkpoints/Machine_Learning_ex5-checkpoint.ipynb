{
 "cells": [
  {
   "cell_type": "code",
   "execution_count": 1,
   "metadata": {},
   "outputs": [],
   "source": [
    "import numpy as np\n",
    "import pandas as pd\n",
    "import scipy.io as sio\n",
    "import scipy.optimize as opt\n",
    "import matplotlib\n",
    "from matplotlib import pyplot as plt\n",
    "import seaborn as sns"
   ]
  },
  {
   "cell_type": "code",
   "execution_count": 2,
   "metadata": {},
   "outputs": [
    {
     "data": {
      "text/plain": [
       "((12,), (12,), (21,), (21,), (21,), (21,))"
      ]
     },
     "execution_count": 2,
     "metadata": {},
     "output_type": "execute_result"
    }
   ],
   "source": [
    "path = 'D:/Google_Download/andrew_ml_ex55139/ex5data1.mat'\n",
    "data = sio.loadmat(path)\n",
    "data['X'].shape,data['y'].shape,data['Xtest'].shape,data['ytest'].shape,data['Xval'].shape,data['yval'].shape\n",
    "X,y,Xtest,ytest,Xval,yval = map(np.ravel,[data['X'],data['y'],data['Xtest'],data['ytest'],data['Xval'],data['yval']])\n",
    "X.shape,y.shape,Xtest.shape,ytest.shape,Xval.shape,yval.shape"
   ]
  },
  {
   "cell_type": "code",
   "execution_count": 3,
   "metadata": {},
   "outputs": [
    {
     "data": {
      "image/png": "[encoded data removed]",
      "text/plain": [
       "<Figure size 864x576 with 1 Axes>"
      ]
     },
     "metadata": {
      "needs_background": "light"
     },
     "output_type": "display_data"
    }
   ],
   "source": [
    "# 描绘出X,y对应的点\n",
    "plt.figure(figsize=(12,8))\n",
    "plt.scatter(X,y)\n",
    "plt.xlabel('water_level',size=15)\n",
    "plt.ylabel('flow',size=15)\n",
    "plt.show()"
   ]
  },
  {
   "cell_type": "code",
   "execution_count": 4,
   "metadata": {},
   "outputs": [
    {
     "data": {
      "text/plain": [
       "((12, 2), (21, 2), (21, 2))"
      ]
     },
     "execution_count": 4,
     "metadata": {},
     "output_type": "execute_result"
    }
   ],
   "source": [
    "# 完善数据，将x前面增加一个0\n",
    "X,Xtest,Xval = [np.insert(x.reshape((len(x),1)),0,values=np.ones(len(x)),axis=1) for x in (X,Xtest,Xval)]\n",
    "X.shape,Xtest.shape,Xval.shape"
   ]
  },
  {
   "cell_type": "code",
   "execution_count": 5,
   "metadata": {},
   "outputs": [],
   "source": [
    "# 定义代价函数\n",
    "def cost(theta,X,y):\n",
    "    X = np.matrix(X)\n",
    "    y = np.matrix(y)\n",
    "    theta = np.matrix(theta)\n",
    "    \n",
    "    \n",
    "    m = X.shape[0]\n",
    "    error = X*theta.T-y\n",
    "    return np.sum(np.power(error,2))/(2*m)"
   ]
  },
  {
   "cell_type": "code",
   "execution_count": 6,
   "metadata": {},
   "outputs": [],
   "source": [
    "def costReg(theta,X,y,reg=1):\n",
    "    X = np.matrix(X)\n",
    "    y = np.matrix(y)\n",
    "    theta = np.matrix(theta)\n",
    "    m = X.shape[0]\n",
    "    \n",
    "    return cost(theta,X,y)+float(reg/(2*m))*np.sum(np.power(theta[:,1:],2))"
   ]
  },
  {
   "cell_type": "code",
   "execution_count": 7,
   "metadata": {},
   "outputs": [
    {
     "data": {
      "text/plain": [
       "303.9931922202643"
      ]
     },
     "execution_count": 7,
     "metadata": {},
     "output_type": "execute_result"
    }
   ],
   "source": [
    "y,yval,ytest = [np.reshape(y_i,(len(y_i),1)) for y_i in (y,yval,ytest)] \n",
    "theta = np.ones(X.shape[1])\n",
    "costReg(theta, X, y, 1)"
   ]
  },
  {
   "cell_type": "code",
   "execution_count": 8,
   "metadata": {},
   "outputs": [],
   "source": [
    "# 正则化线性回归梯度\n",
    "def gradient(theta,X,y):\n",
    "    X = np.matrix(X)\n",
    "    y = np.matrix(y)\n",
    "    theta = np.matrix(theta)\n",
    "    m = X.shape[0]\n",
    "    \n",
    "    grad = np.zeros(theta.shape)\n",
    "    error = X*theta.T-y\n",
    "    grad = X.T*error\n",
    "    grad/=m\n",
    "    return np.array(grad).flatten()"
   ]
  },
  {
   "cell_type": "code",
   "execution_count": 9,
   "metadata": {},
   "outputs": [],
   "source": [
    "# 正则化梯度下降\n",
    "def gradientReg(theta,X,y,reg=1):\n",
    "    X = np.matrix(X)\n",
    "    y = np.matrix(y)\n",
    "    theta = np.matrix(theta)\n",
    "    m = X.shape[0]\n",
    "    \n",
    "    grad = gradient(theta,X,y)\n",
    "    grad[1:] += float(reg/m)*np.array(theta[:,1:]).flatten()\n",
    "    return grad"
   ]
  },
  {
   "cell_type": "code",
   "execution_count": 10,
   "metadata": {},
   "outputs": [
    {
     "data": {
      "text/plain": [
       "array([-15.30301567, 598.25074417])"
      ]
     },
     "execution_count": 10,
     "metadata": {},
     "output_type": "execute_result"
    }
   ],
   "source": [
    "gradientReg(theta,X,y,reg=1)"
   ]
  },
  {
   "cell_type": "code",
   "execution_count": 11,
   "metadata": {},
   "outputs": [
    {
     "data": {
      "text/plain": [
       "array([13.08790348,  0.36777923])"
      ]
     },
     "execution_count": 11,
     "metadata": {},
     "output_type": "execute_result"
    }
   ],
   "source": [
    "# 拟合线性回归\n",
    "final_theta = opt.minimize(fun=costReg,x0=theta,args=(X,y,0),method='TNC',jac=gradientReg,options={'disp':True}).x\n",
    "final_theta"
   ]
  },
  {
   "cell_type": "code",
   "execution_count": 12,
   "metadata": {},
   "outputs": [
    {
     "data": {
      "image/png": "[encoded data removed]",
      "text/plain": [
       "<Figure size 864x576 with 1 Axes>"
      ]
     },
     "metadata": {
      "needs_background": "light"
     },
     "output_type": "display_data"
    }
   ],
   "source": [
    "# 对数据拟合一条直线\n",
    "b = final_theta[0]\n",
    "w = final_theta[1]\n",
    "\n",
    "plt.figure(figsize=(12,8))\n",
    "plt.scatter(X[:,1],y,color='r',label='Training Data')\n",
    "plt.plot(X[:,1],w*X[:,1]+b,label='Prediction')\n",
    "plt.xlabel('water_level',size=15)\n",
    "plt.ylabel('flow',size=15)\n",
    "plt.legend(loc='best')\n",
    "plt.show()"
   ]
  },
  {
   "cell_type": "code",
   "execution_count": 13,
   "metadata": {},
   "outputs": [],
   "source": [
    "# 定义一个函数，让其返回拟合后的theta值，其实就是minimize的功能\n",
    "def linear_regression(X,y,l):\n",
    "    init_theta = np.zeros(X.shape[1])\n",
    "    return opt.minimize(fun=costReg,x0=init_theta,args=(X,y,l),method='TNC',jac=gradientReg,options={'disp':True})"
   ]
  },
  {
   "cell_type": "code",
   "execution_count": 16,
   "metadata": {},
   "outputs": [
    {
     "data": {
      "text/plain": [
       "([1.0176953929799205e-18,\n",
       "  3.4671308818173964e-09,\n",
       "  3.2865950455012913,\n",
       "  2.8426776893999373,\n",
       "  13.154048809114926,\n",
       "  19.443962512495464,\n",
       "  20.098521655088888,\n",
       "  18.17285869520002,\n",
       "  22.60940542495473,\n",
       "  23.261461592611816,\n",
       "  24.31724958804416,\n",
       "  22.373906495108912],\n",
       " [205.1210957127572,\n",
       "  110.30264077542824,\n",
       "  45.0102314530931,\n",
       "  48.36891025069481,\n",
       "  35.865164739151226,\n",
       "  33.82996154859687,\n",
       "  31.970985830253063,\n",
       "  30.86244631444088,\n",
       "  31.13599786459523,\n",
       "  28.93620747034826,\n",
       "  29.55143161970526,\n",
       "  29.433818127872954])"
      ]
     },
     "execution_count": 16,
     "metadata": {},
     "output_type": "execute_result"
    }
   ],
   "source": [
    "# 根据不同的训练集大小，计算出相应的代价值，一个是J(train)一个是J(cross validation)\n",
    "# 该出的代价函数不能使用含有reg的，因为reg的作用仅仅是选择更好的theta，而评价该参数时不应使用\n",
    "training_cost,val_cost = [],[]\n",
    "m = X.shape[0]\n",
    "for i in range(1,m+1):\n",
    "    opt_theta = linear_regression(X[:i,:],y[:i,:],0)\n",
    "    # 利用这个opt_theta求解J(train)和J(cross validation)\n",
    "    training_cost += [cost(opt_theta.x,X[:i,:],y[:i,:])]\n",
    "    val_cost += [cost(opt_theta.x,Xval,yval)]\n",
    "    pass\n",
    "training_cost,val_cost"
   ]
  },
  {
   "cell_type": "code",
   "execution_count": 19,
   "metadata": {},
   "outputs": [
    {
     "data": {
      "image/png": "[encoded data removed]",
      "text/plain": [
       "<Figure size 864x576 with 1 Axes>"
      ]
     },
     "metadata": {
      "needs_background": "light"
     },
     "output_type": "display_data"
    }
   ],
   "source": [
    "# 根据以上点绘制学习曲线\n",
    "ax = plt.subplots(figsize=(12,8))\n",
    "plt.plot(range(1,m+1),training_cost,label='training_cost')\n",
    "plt.plot(range(1,m+1),val_cost,label='val_cost')\n",
    "plt.legend(loc='best')\n",
    "plt.xlabel('Training set size',size=15)\n",
    "plt.ylabel('error',size=15)\n",
    "plt.show()"
   ]
  },
  {
   "cell_type": "code",
   "execution_count": null,
   "metadata": {},
   "outputs": [],
   "source": [
    "# 由此可知，此图产生了欠拟合，因此要解决这个欠拟合\n",
    "# 可以有以下方法：\n",
    "# 1.增加feature，或者提高特征幂次\n",
    "# 2.增加样本是没有效果滴\n",
    "# 3.减小λ的值，但是我们这里还没有使用λ，因此这里只能使用提高幂次的方式\n"
   ]
  }
 ],
 "metadata": {
  "kernelspec": {
   "display_name": "Python [conda env:myPy3.6]",
   "language": "python",
   "name": "conda-env-myPy3.6-py"
  },
  "language_info": {
   "codemirror_mode": {
    "name": "ipython",
    "version": 3
   },
   "file_extension": ".py",
   "mimetype": "text/x-python",
   "name": "python",
   "nbconvert_exporter": "python",
   "pygments_lexer": "ipython3",
   "version": "3.6.10"
  }
 },
 "nbformat": 4,
 "nbformat_minor": 4
}
