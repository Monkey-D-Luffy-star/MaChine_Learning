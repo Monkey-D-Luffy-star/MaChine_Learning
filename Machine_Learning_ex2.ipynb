{
 "cells": [
  {
   "cell_type": "code",
   "execution_count": 1,
   "metadata": {},
   "outputs": [],
   "source": [
    "import numpy as np\n",
    "import pandas as pd\n",
    "import matplotlib.pyplot as plt\n",
    "import scipy.optimize as opt"
   ]
  },
  {
   "cell_type": "code",
   "execution_count": 2,
   "metadata": {},
   "outputs": [
    {
     "data": {
      "text/html": [
       "<div>\n",
       "<style scoped>\n",
       "    .dataframe tbody tr th:only-of-type {\n",
       "        vertical-align: middle;\n",
       "    }\n",
       "\n",
       "    .dataframe tbody tr th {\n",
       "        vertical-align: top;\n",
       "    }\n",
       "\n",
       "    .dataframe thead th {\n",
       "        text-align: right;\n",
       "    }\n",
       "</style>\n",
       "<table border=\"1\" class=\"dataframe\">\n",
       "  <thead>\n",
       "    <tr style=\"text-align: right;\">\n",
       "      <th></th>\n",
       "      <th>Exam1</th>\n",
       "      <th>Exam2</th>\n",
       "      <th>Admitted</th>\n",
       "    </tr>\n",
       "  </thead>\n",
       "  <tbody>\n",
       "    <tr>\n",
       "      <th>0</th>\n",
       "      <td>34.623660</td>\n",
       "      <td>78.024693</td>\n",
       "      <td>0</td>\n",
       "    </tr>\n",
       "    <tr>\n",
       "      <th>1</th>\n",
       "      <td>30.286711</td>\n",
       "      <td>43.894998</td>\n",
       "      <td>0</td>\n",
       "    </tr>\n",
       "    <tr>\n",
       "      <th>2</th>\n",
       "      <td>35.847409</td>\n",
       "      <td>72.902198</td>\n",
       "      <td>0</td>\n",
       "    </tr>\n",
       "    <tr>\n",
       "      <th>3</th>\n",
       "      <td>60.182599</td>\n",
       "      <td>86.308552</td>\n",
       "      <td>1</td>\n",
       "    </tr>\n",
       "    <tr>\n",
       "      <th>4</th>\n",
       "      <td>79.032736</td>\n",
       "      <td>75.344376</td>\n",
       "      <td>1</td>\n",
       "    </tr>\n",
       "  </tbody>\n",
       "</table>\n",
       "</div>"
      ],
      "text/plain": [
       "       Exam1      Exam2  Admitted\n",
       "0  34.623660  78.024693         0\n",
       "1  30.286711  43.894998         0\n",
       "2  35.847409  72.902198         0\n",
       "3  60.182599  86.308552         1\n",
       "4  79.032736  75.344376         1"
      ]
     },
     "execution_count": 2,
     "metadata": {},
     "output_type": "execute_result"
    }
   ],
   "source": [
    "path = 'D:/Google_Download/andrew_ml_ex22391/ex2data1.txt'\n",
    "df = pd.read_csv(path)\n",
    "df.head()"
   ]
  },
  {
   "cell_type": "code",
   "execution_count": 3,
   "metadata": {},
   "outputs": [
    {
     "data": {
      "image/png": "[encoded data removed]",
      "text/plain": [
       "<Figure size 864x576 with 1 Axes>"
      ]
     },
     "metadata": {
      "needs_background": "light"
     },
     "output_type": "display_data"
    }
   ],
   "source": [
    "# 根据这些点进行绘图\n",
    "plt.figure(figsize=(12,8))\n",
    "df1 = df[df.iloc[:,2] == 0]\n",
    "df2 = df[df.iloc[:,2] == 1]\n",
    "plt.scatter(df1.iloc[:,0].tolist(),df1.iloc[:,1].tolist(),color='r',marker='x',label='Not Admitted')\n",
    "plt.scatter(df2.iloc[:,0].tolist(),df2.iloc[:,1].tolist(),color='b',marker='o',label='Admitted')\n",
    "plt.legend(loc='best')\n",
    "plt.xlabel('Exam1 score',size=16)\n",
    "plt.ylabel('Exam2 score',size=16)\n",
    "plt.show()\n"
   ]
  },
  {
   "cell_type": "code",
   "execution_count": 4,
   "metadata": {},
   "outputs": [
    {
     "data": {
      "text/plain": [
       "matrix([[0.5       , 0.73105858, 0.26894142]])"
      ]
     },
     "execution_count": 4,
     "metadata": {},
     "output_type": "execute_result"
    }
   ],
   "source": [
    "# 定义sigmoid函数\n",
    "def sigmoid(z):\n",
    "    return 1.0/(1.0+np.exp(-z))\n",
    "\n",
    "# 测试sigmoid函数\n",
    "sigmoid(np.matrix([0,1,-1]))"
   ]
  },
  {
   "cell_type": "code",
   "execution_count": 5,
   "metadata": {},
   "outputs": [],
   "source": [
    "def Cost(theta,X,y):\n",
    "    theta = np.matrix(theta)\n",
    "    X = np.matrix(X)\n",
    "    y = np.matrix(y)\n",
    "    first = -y.T*(np.log(sigmoid(X*theta.T)))\n",
    "    second = (y.T-1)*(np.log(1-(sigmoid(X*theta.T))))\n",
    "    return (first+second)/X.shape[0]"
   ]
  },
  {
   "cell_type": "code",
   "execution_count": 6,
   "metadata": {},
   "outputs": [],
   "source": [
    "# 构造数据，为什么之前构造数据不对呢？\n",
    "# y = df.iloc[:,-1]这种写法得出的数据是一行多列\n",
    "columns = df.shape[1]\n",
    "X = df.iloc[:,0:columns-1]\n",
    "y = df.iloc[:,columns-1:columns]\n",
    "# 将X数据第一列插入1\n",
    "X.insert(0,'Ones',1)\n",
    "\n",
    "# 转化数据类型\n",
    "X = np.array(X.values)\n",
    "y = np.array(y.values)"
   ]
  },
  {
   "cell_type": "code",
   "execution_count": 7,
   "metadata": {},
   "outputs": [
    {
     "data": {
      "text/plain": [
       "matrix([[0.69314718]])"
      ]
     },
     "execution_count": 7,
     "metadata": {},
     "output_type": "execute_result"
    }
   ],
   "source": [
    "theta = np.zeros(3)\n",
    "g = Cost(theta,X,y)\n",
    "g"
   ]
  },
  {
   "cell_type": "code",
   "execution_count": 8,
   "metadata": {},
   "outputs": [],
   "source": [
    "# 给出导数即可，可以使用scipy函数库来进行求解\n",
    "def gradientDescent(theta,X,y):\n",
    "    # 规范化数据\n",
    "    theta = np.matrix(theta)\n",
    "    X = np.matrix(X)\n",
    "    y = np.matrix(y)\n",
    "\n",
    "    grad = np.zeros(theta.shape)\n",
    "    error = sigmoid(X*theta.T)-y\n",
    "    term = np.multiply(error,X)\n",
    "    grad = np.sum(term,axis=0)/X.shape[0]\n",
    "    return grad"
   ]
  },
  {
   "cell_type": "code",
   "execution_count": 9,
   "metadata": {},
   "outputs": [
    {
     "data": {
      "text/plain": [
       "(array([-25.16131852,   0.20623159,   0.20147148]), 36, 0)"
      ]
     },
     "execution_count": 9,
     "metadata": {},
     "output_type": "execute_result"
    }
   ],
   "source": [
    "# t = gradientDescent(theta,X,y)\n",
    "# t\n",
    "# 使用包提供的自动梯度下降函数，需要提供Cost代价函数，\n",
    "result = opt.fmin_tnc(func=Cost,x0=theta,fprime=gradientDescent,args=(X,y))\n",
    "result\n",
    "# 其中result的后两个数据，36代表调用代价函数的次数，该次数往往大于迭代次数，0代表代码执行状态"
   ]
  },
  {
   "cell_type": "code",
   "execution_count": 10,
   "metadata": {},
   "outputs": [
    {
     "data": {
      "text/plain": [
       "matrix([[0.2034977]])"
      ]
     },
     "execution_count": 10,
     "metadata": {},
     "output_type": "execute_result"
    }
   ],
   "source": [
    "c = Cost(result[0],X,y)\n",
    "# 打印c可以看出此时代价函数最小值接近0\n",
    "c"
   ]
  },
  {
   "cell_type": "code",
   "execution_count": 11,
   "metadata": {},
   "outputs": [
    {
     "data": {
      "image/png": "[encoded data removed]",
      "text/plain": [
       "<Figure size 864x576 with 1 Axes>"
      ]
     },
     "metadata": {
      "needs_background": "light"
     },
     "output_type": "display_data"
    }
   ],
   "source": [
    "# 画出决策线\n",
    "_x = np.linspace(30,100,50)\n",
    "_y = (-result[0][0]-result[0][1]*_x)/result[0][2]\n",
    "plt.subplots(figsize=(12,8))\n",
    "plt.plot(_x,_y,'y')\n",
    "plt.scatter(df1.iloc[:,0].tolist(),df1.iloc[:,1].tolist(),color='r',marker='x',label='Not Admitted')\n",
    "plt.scatter(df2.iloc[:,0].tolist(),df2.iloc[:,1].tolist(),color='b',marker='o',label='Admitted')\n",
    "plt.legend(loc='best')\n",
    "plt.xlabel('Exam1 score',size=16)\n",
    "plt.ylabel('Exam2 score',size=16)\n",
    "plt.show()"
   ]
  },
  {
   "cell_type": "code",
   "execution_count": 12,
   "metadata": {},
   "outputs": [
    {
     "data": {
      "text/plain": [
       "matrix([[0.77629062]])"
      ]
     },
     "execution_count": 12,
     "metadata": {},
     "output_type": "execute_result"
    }
   ],
   "source": [
    "# 预测学生被录取的概率\n",
    "def hfunc1(theta,X):\n",
    "    theta = np.matrix(theta)\n",
    "    X = np.matrix(X)\n",
    "    return sigmoid(X.dot(theta.T))\n",
    "# 输出被录取的概率\n",
    "hfunc1(result[0],[1,45,85])"
   ]
  },
  {
   "cell_type": "code",
   "execution_count": 13,
   "metadata": {},
   "outputs": [],
   "source": [
    "# 计算训练集上的数据预测的准确率\n",
    "def predict(theta,X):\n",
    "    theta = np.matrix(theta)\n",
    "    X = np.matrix(X)\n",
    "    predicts = sigmoid(X*theta.T)\n",
    "    return [1 if x>=0.5 else 0 for x in predicts]"
   ]
  },
  {
   "cell_type": "code",
   "execution_count": 14,
   "metadata": {},
   "outputs": [
    {
     "name": "stdout",
     "output_type": "stream",
     "text": [
      "accuracy = 89%\n"
     ]
    }
   ],
   "source": [
    "predicts = predict(result[0],X)\n",
    "correct = [1 if (a==0 and b==0) or (a==1 and b==1) else 0 for a,b in zip(predicts,y)]\n",
    "accuracy = sum(correct)/len(correct)\n",
    "print('accuracy = {:.0%}'.format(accuracy))"
   ]
  },
  {
   "cell_type": "code",
   "execution_count": 15,
   "metadata": {},
   "outputs": [
    {
     "data": {
      "text/html": [
       "<div>\n",
       "<style scoped>\n",
       "    .dataframe tbody tr th:only-of-type {\n",
       "        vertical-align: middle;\n",
       "    }\n",
       "\n",
       "    .dataframe tbody tr th {\n",
       "        vertical-align: top;\n",
       "    }\n",
       "\n",
       "    .dataframe thead th {\n",
       "        text-align: right;\n",
       "    }\n",
       "</style>\n",
       "<table border=\"1\" class=\"dataframe\">\n",
       "  <thead>\n",
       "    <tr style=\"text-align: right;\">\n",
       "      <th></th>\n",
       "      <th>Test1</th>\n",
       "      <th>Test2</th>\n",
       "      <th>Accepted</th>\n",
       "    </tr>\n",
       "  </thead>\n",
       "  <tbody>\n",
       "    <tr>\n",
       "      <th>0</th>\n",
       "      <td>0.051267</td>\n",
       "      <td>0.69956</td>\n",
       "      <td>1</td>\n",
       "    </tr>\n",
       "    <tr>\n",
       "      <th>1</th>\n",
       "      <td>-0.092742</td>\n",
       "      <td>0.68494</td>\n",
       "      <td>1</td>\n",
       "    </tr>\n",
       "    <tr>\n",
       "      <th>2</th>\n",
       "      <td>-0.213710</td>\n",
       "      <td>0.69225</td>\n",
       "      <td>1</td>\n",
       "    </tr>\n",
       "    <tr>\n",
       "      <th>3</th>\n",
       "      <td>-0.375000</td>\n",
       "      <td>0.50219</td>\n",
       "      <td>1</td>\n",
       "    </tr>\n",
       "    <tr>\n",
       "      <th>4</th>\n",
       "      <td>-0.513250</td>\n",
       "      <td>0.46564</td>\n",
       "      <td>1</td>\n",
       "    </tr>\n",
       "  </tbody>\n",
       "</table>\n",
       "</div>"
      ],
      "text/plain": [
       "      Test1    Test2  Accepted\n",
       "0  0.051267  0.69956         1\n",
       "1 -0.092742  0.68494         1\n",
       "2 -0.213710  0.69225         1\n",
       "3 -0.375000  0.50219         1\n",
       "4 -0.513250  0.46564         1"
      ]
     },
     "execution_count": 15,
     "metadata": {},
     "output_type": "execute_result"
    }
   ],
   "source": [
    "# 正则化处理逻辑回归\n",
    "# 如果文件开头没有名字，则读取方式为df = pd.read_csv(path,header=None,names=['Test1','Test2','Accepted'])\n",
    "path = 'D:/Google_Download/andrew_ml_ex22391/ex2data2.txt'\n",
    "df = pd.read_csv(path)\n",
    "df.head()"
   ]
  },
  {
   "cell_type": "code",
   "execution_count": 16,
   "metadata": {},
   "outputs": [
    {
     "data": {
      "image/png": "[encoded data removed]",
      "text/plain": [
       "<Figure size 864x576 with 1 Axes>"
      ]
     },
     "metadata": {
      "needs_background": "light"
     },
     "output_type": "display_data"
    }
   ],
   "source": [
    "df1 = df[df['Accepted']==1]          #正样本\n",
    "df1_new = df1.copy()\n",
    "df2 = df[df['Accepted']==0]          #负样本\n",
    "df2_new = df2.copy()\n",
    "plt.figure(figsize=(12,8))\n",
    "plt.scatter(df1['Test1'].values.tolist(),df1['Test2'].values.tolist(),marker='o')\n",
    "plt.scatter(df2['Test1'].values.tolist(),df2['Test2'].values.tolist(),color='red',marker='x')\n",
    "plt.xlabel('Test1',size=14)\n",
    "plt.ylabel('Test2',size=14)\n",
    "plt.show()"
   ]
  },
  {
   "cell_type": "code",
   "execution_count": 17,
   "metadata": {},
   "outputs": [
    {
     "data": {
      "text/html": [
       "<div>\n",
       "<style scoped>\n",
       "    .dataframe tbody tr th:only-of-type {\n",
       "        vertical-align: middle;\n",
       "    }\n",
       "\n",
       "    .dataframe tbody tr th {\n",
       "        vertical-align: top;\n",
       "    }\n",
       "\n",
       "    .dataframe thead th {\n",
       "        text-align: right;\n",
       "    }\n",
       "</style>\n",
       "<table border=\"1\" class=\"dataframe\">\n",
       "  <thead>\n",
       "    <tr style=\"text-align: right;\">\n",
       "      <th></th>\n",
       "      <th>Accepted</th>\n",
       "      <th>Ones</th>\n",
       "      <th>F10</th>\n",
       "      <th>F01</th>\n",
       "      <th>F20</th>\n",
       "      <th>F11</th>\n",
       "      <th>F02</th>\n",
       "      <th>F30</th>\n",
       "      <th>F21</th>\n",
       "      <th>F12</th>\n",
       "      <th>...</th>\n",
       "      <th>F23</th>\n",
       "      <th>F14</th>\n",
       "      <th>F05</th>\n",
       "      <th>F60</th>\n",
       "      <th>F51</th>\n",
       "      <th>F42</th>\n",
       "      <th>F33</th>\n",
       "      <th>F24</th>\n",
       "      <th>F15</th>\n",
       "      <th>F06</th>\n",
       "    </tr>\n",
       "  </thead>\n",
       "  <tbody>\n",
       "    <tr>\n",
       "      <th>0</th>\n",
       "      <td>1</td>\n",
       "      <td>1</td>\n",
       "      <td>0.051267</td>\n",
       "      <td>0.69956</td>\n",
       "      <td>0.002628</td>\n",
       "      <td>0.035864</td>\n",
       "      <td>0.489384</td>\n",
       "      <td>0.000135</td>\n",
       "      <td>0.001839</td>\n",
       "      <td>0.025089</td>\n",
       "      <td>...</td>\n",
       "      <td>0.000900</td>\n",
       "      <td>0.012278</td>\n",
       "      <td>0.167542</td>\n",
       "      <td>1.815630e-08</td>\n",
       "      <td>2.477505e-07</td>\n",
       "      <td>0.000003</td>\n",
       "      <td>0.000046</td>\n",
       "      <td>0.000629</td>\n",
       "      <td>0.008589</td>\n",
       "      <td>0.117206</td>\n",
       "    </tr>\n",
       "    <tr>\n",
       "      <th>1</th>\n",
       "      <td>1</td>\n",
       "      <td>1</td>\n",
       "      <td>-0.092742</td>\n",
       "      <td>0.68494</td>\n",
       "      <td>0.008601</td>\n",
       "      <td>-0.063523</td>\n",
       "      <td>0.469143</td>\n",
       "      <td>-0.000798</td>\n",
       "      <td>0.005891</td>\n",
       "      <td>-0.043509</td>\n",
       "      <td>...</td>\n",
       "      <td>0.002764</td>\n",
       "      <td>-0.020412</td>\n",
       "      <td>0.150752</td>\n",
       "      <td>6.362953e-07</td>\n",
       "      <td>-4.699318e-06</td>\n",
       "      <td>0.000035</td>\n",
       "      <td>-0.000256</td>\n",
       "      <td>0.001893</td>\n",
       "      <td>-0.013981</td>\n",
       "      <td>0.103256</td>\n",
       "    </tr>\n",
       "    <tr>\n",
       "      <th>2</th>\n",
       "      <td>1</td>\n",
       "      <td>1</td>\n",
       "      <td>-0.213710</td>\n",
       "      <td>0.69225</td>\n",
       "      <td>0.045672</td>\n",
       "      <td>-0.147941</td>\n",
       "      <td>0.479210</td>\n",
       "      <td>-0.009761</td>\n",
       "      <td>0.031616</td>\n",
       "      <td>-0.102412</td>\n",
       "      <td>...</td>\n",
       "      <td>0.015151</td>\n",
       "      <td>-0.049077</td>\n",
       "      <td>0.158970</td>\n",
       "      <td>9.526844e-05</td>\n",
       "      <td>-3.085938e-04</td>\n",
       "      <td>0.001000</td>\n",
       "      <td>-0.003238</td>\n",
       "      <td>0.010488</td>\n",
       "      <td>-0.033973</td>\n",
       "      <td>0.110047</td>\n",
       "    </tr>\n",
       "    <tr>\n",
       "      <th>3</th>\n",
       "      <td>1</td>\n",
       "      <td>1</td>\n",
       "      <td>-0.375000</td>\n",
       "      <td>0.50219</td>\n",
       "      <td>0.140625</td>\n",
       "      <td>-0.188321</td>\n",
       "      <td>0.252195</td>\n",
       "      <td>-0.052734</td>\n",
       "      <td>0.070620</td>\n",
       "      <td>-0.094573</td>\n",
       "      <td>...</td>\n",
       "      <td>0.017810</td>\n",
       "      <td>-0.023851</td>\n",
       "      <td>0.031940</td>\n",
       "      <td>2.780914e-03</td>\n",
       "      <td>-3.724126e-03</td>\n",
       "      <td>0.004987</td>\n",
       "      <td>-0.006679</td>\n",
       "      <td>0.008944</td>\n",
       "      <td>-0.011978</td>\n",
       "      <td>0.016040</td>\n",
       "    </tr>\n",
       "    <tr>\n",
       "      <th>4</th>\n",
       "      <td>1</td>\n",
       "      <td>1</td>\n",
       "      <td>-0.513250</td>\n",
       "      <td>0.46564</td>\n",
       "      <td>0.263426</td>\n",
       "      <td>-0.238990</td>\n",
       "      <td>0.216821</td>\n",
       "      <td>-0.135203</td>\n",
       "      <td>0.122661</td>\n",
       "      <td>-0.111283</td>\n",
       "      <td>...</td>\n",
       "      <td>0.026596</td>\n",
       "      <td>-0.024128</td>\n",
       "      <td>0.021890</td>\n",
       "      <td>1.827990e-02</td>\n",
       "      <td>-1.658422e-02</td>\n",
       "      <td>0.015046</td>\n",
       "      <td>-0.013650</td>\n",
       "      <td>0.012384</td>\n",
       "      <td>-0.011235</td>\n",
       "      <td>0.010193</td>\n",
       "    </tr>\n",
       "  </tbody>\n",
       "</table>\n",
       "<p>5 rows × 29 columns</p>\n",
       "</div>"
      ],
      "text/plain": [
       "   Accepted  Ones       F10      F01       F20       F11       F02       F30  \\\n",
       "0         1     1  0.051267  0.69956  0.002628  0.035864  0.489384  0.000135   \n",
       "1         1     1 -0.092742  0.68494  0.008601 -0.063523  0.469143 -0.000798   \n",
       "2         1     1 -0.213710  0.69225  0.045672 -0.147941  0.479210 -0.009761   \n",
       "3         1     1 -0.375000  0.50219  0.140625 -0.188321  0.252195 -0.052734   \n",
       "4         1     1 -0.513250  0.46564  0.263426 -0.238990  0.216821 -0.135203   \n",
       "\n",
       "        F21       F12  ...       F23       F14       F05           F60  \\\n",
       "0  0.001839  0.025089  ...  0.000900  0.012278  0.167542  1.815630e-08   \n",
       "1  0.005891 -0.043509  ...  0.002764 -0.020412  0.150752  6.362953e-07   \n",
       "2  0.031616 -0.102412  ...  0.015151 -0.049077  0.158970  9.526844e-05   \n",
       "3  0.070620 -0.094573  ...  0.017810 -0.023851  0.031940  2.780914e-03   \n",
       "4  0.122661 -0.111283  ...  0.026596 -0.024128  0.021890  1.827990e-02   \n",
       "\n",
       "            F51       F42       F33       F24       F15       F06  \n",
       "0  2.477505e-07  0.000003  0.000046  0.000629  0.008589  0.117206  \n",
       "1 -4.699318e-06  0.000035 -0.000256  0.001893 -0.013981  0.103256  \n",
       "2 -3.085938e-04  0.001000 -0.003238  0.010488 -0.033973  0.110047  \n",
       "3 -3.724126e-03  0.004987 -0.006679  0.008944 -0.011978  0.016040  \n",
       "4 -1.658422e-02  0.015046 -0.013650  0.012384 -0.011235  0.010193  \n",
       "\n",
       "[5 rows x 29 columns]"
      ]
     },
     "execution_count": 17,
     "metadata": {},
     "output_type": "execute_result"
    }
   ],
   "source": [
    "# 由于该数据不可以使用线性回归，因为不能直接使用一条直线进行分割\n",
    "# 故不直接使用逻辑回归，我们增加数据集的高次项特征，增加到六次幂\n",
    "degree = 6\n",
    "data1 = df['Test1']\n",
    "data2 = df['Test2']\n",
    "df.insert(3,'Ones',1)\n",
    "for i in range(1,degree+1):\n",
    "    for j in range(0,i+1):\n",
    "        # 默认增加到最后一列\n",
    "        df['F'+str(i-j)+str(j)]=np.power(data1,i-j)*np.power(data2,j)\n",
    "        pass\n",
    "    pass\n",
    "# 删除多余的两列，axis=1是删除列\n",
    "df.drop('Test1',axis=1,inplace=True)\n",
    "df.drop('Test2',axis=1,inplace=True)\n",
    "df.head()"
   ]
  },
  {
   "cell_type": "code",
   "execution_count": 18,
   "metadata": {},
   "outputs": [],
   "source": [
    "# 此时已准备好最高到6次幂的数据\n",
    "# y只有下列这种取法才会生成向量\n",
    "columns = df.shape[1]\n",
    "X = df.iloc[:,1:columns]\n",
    "y = df.iloc[:,0:1]\n",
    "X = np.matrix(X.values)\n",
    "y = np.matrix(y.values)"
   ]
  },
  {
   "cell_type": "code",
   "execution_count": 19,
   "metadata": {},
   "outputs": [
    {
     "data": {
      "text/plain": [
       "matrix([[0.69314718]])"
      ]
     },
     "execution_count": 19,
     "metadata": {},
     "output_type": "execute_result"
    }
   ],
   "source": [
    "# 数据准备完成后，设计代价函数\n",
    "def CostReg(theta,X,y,learningRate):\n",
    "    theta = np.matrix(theta)\n",
    "    X = np.matrix(X)\n",
    "    y = np.matrix(y)\n",
    "    first = -y.T*(np.log(sigmoid(X*theta.T)))\n",
    "    second = (y.T-1)*(np.log(1-(sigmoid(X*theta.T))))\n",
    "    third = learningRate*(np.sum(np.power(theta[:,1:],2)))/2\n",
    "    return (first+second+third)/X.shape[0]\n",
    "def costReg(theta, X, y, learningRate):\n",
    "    theta = np.matrix(theta)\n",
    "    X = np.matrix(X)\n",
    "    y = np.matrix(y)\n",
    "    first = np.multiply(-y, np.log(sigmoid(X * theta.T)))\n",
    "    second = np.multiply((1 - y), np.log(1 - sigmoid(X * theta.T)))\n",
    "    reg = (learningRate / (2 * len(X))) * np.sum(np.power(theta[:,1:theta.shape[1]], 2))\n",
    "    return np.sum(first - second) / len(X) + reg\n",
    "theta = np.zeros(X.shape[1])\n",
    "# 测试learningRate为0.1时theta为0时，整体的代价是多少\n",
    "c = CostReg(theta,X,y,0.1)\n",
    "c"
   ]
  },
  {
   "cell_type": "code",
   "execution_count": 20,
   "metadata": {},
   "outputs": [
    {
     "data": {
      "text/plain": [
       "matrix([[8.47457627e-03, 1.87880932e-02, 7.77711864e-05, 5.03446395e-02,\n",
       "         1.15013308e-02, 3.76648474e-02, 1.83559872e-02, 7.32393391e-03,\n",
       "         8.19244468e-03, 2.34764889e-02, 3.93486234e-02, 2.23923907e-03,\n",
       "         1.28600503e-02, 3.09593720e-03, 3.93028171e-02, 1.99707467e-02,\n",
       "         4.32983232e-03, 3.38643902e-03, 5.83822078e-03, 4.47629067e-03,\n",
       "         3.10079849e-02, 3.10312442e-02, 1.09740238e-03, 6.31570797e-03,\n",
       "         4.08503006e-04, 7.26504316e-03, 1.37646175e-03, 3.87936363e-02]])"
      ]
     },
     "execution_count": 20,
     "metadata": {},
     "output_type": "execute_result"
    }
   ],
   "source": [
    "def gradient(theta,X,y,learningRate):\n",
    "    # 返回该代价函数的梯度\n",
    "    theta = np.matrix(theta)\n",
    "    X = np.matrix(X)\n",
    "    y = np.matrix(y)\n",
    "    \n",
    "    # 首先初试化梯度皆为0，向量theta向量中每个数的梯度是不一样的，这里先初始化为0\n",
    "    grad = np.zeros(theta.shape)\n",
    "    error = sigmoid(X*theta.T)-y\n",
    "    term = np.multiply(error,X)\n",
    "    grad = np.sum(term,axis=0)/X.shape[0]\n",
    "    grad[1:] = grad[1:] + learningRate*theta[1:]/X.shape[0]\n",
    "    return grad\n",
    "def gradientReg(theta, X, y, learningRate):\n",
    "    theta = np.matrix(theta)\n",
    "    X = np.matrix(X)\n",
    "    y = np.matrix(y)\n",
    "    \n",
    "    parameters = int(theta.ravel().shape[1])\n",
    "    grad = np.zeros(parameters)\n",
    "    \n",
    "    error = sigmoid(X * theta.T) - y\n",
    "    \n",
    "    for i in range(parameters):\n",
    "        term = np.multiply(error, X[:,i])\n",
    "        \n",
    "        if (i == 0):\n",
    "            grad[i] = np.sum(term) / len(X)\n",
    "        else:\n",
    "            grad[i] = (np.sum(term) / len(X)) + ((learningRate / len(X)) * theta[:,i])\n",
    "    \n",
    "    return grad\n",
    "theta = np.zeros(X.shape[1])\n",
    "g = gradient(theta,X,y,0.1)\n",
    "g"
   ]
  },
  {
   "cell_type": "code",
   "execution_count": 21,
   "metadata": {},
   "outputs": [
    {
     "data": {
      "text/plain": [
       "(array([ 1.83273352,  1.32589885,  2.20964224, -3.46191974, -1.93582175,\n",
       "        -2.27013683,  0.65751174, -0.78583324, -0.80701265,  0.02928876,\n",
       "        -2.34833502, -0.20484364, -1.22229574, -0.58952606, -1.73433363,\n",
       "         0.09123659, -0.42617517, -0.16635703, -0.55812596, -0.58351368,\n",
       "        -0.28080671, -1.44625766,  0.02244675, -0.59556808, -0.03486153,\n",
       "        -0.63060833, -0.2658628 , -1.04980804]),\n",
       " 155,\n",
       " 1)"
      ]
     },
     "execution_count": 21,
     "metadata": {},
     "output_type": "execute_result"
    }
   ],
   "source": [
    "# 调用函数库求解最佳的theta值\n",
    "theta = np.zeros(X.shape[1])\n",
    "learningRate = 0.4\n",
    "result2 = opt.fmin_tnc(func=CostReg,x0=theta,fprime=gradient,args=(X,y,learningRate))\n",
    "result2"
   ]
  },
  {
   "cell_type": "code",
   "execution_count": 22,
   "metadata": {},
   "outputs": [
    {
     "data": {
      "text/plain": [
       "'predict:86%'"
      ]
     },
     "execution_count": 22,
     "metadata": {},
     "output_type": "execute_result"
    }
   ],
   "source": [
    "# 看看准确度如何\n",
    "theta_min = np.matrix(result2[0])\n",
    "predictions = predict(theta_min,X)\n",
    "correct = [1 if a==b else 0 for a,b in zip(predictions,y)]\n",
    "accuracy = sum(correct)/len(correct)\n",
    "'predict:{:.0%}'.format(accuracy)\n",
    "\n",
    "# 就很迷下面这种写法居然精度超过100，是101%\n",
    "# theta_min = np.matrix(result2[0])\n",
    "# predictions = predict(theta_min, X)\n",
    "# correct = [1 if ((a == 1 and b == 1) or (a == 0 and b == 0)) else 0 for (a, b) in zip(predictions, y)]\n",
    "# accuracy = (sum(map(int, correct)) % len(correct))\n",
    "# print ('accuracy = {0}%'.format(accuracy))"
   ]
  },
  {
   "cell_type": "code",
   "execution_count": 23,
   "metadata": {},
   "outputs": [],
   "source": [
    "# 画出决策线，这里挺麻烦的\n",
    "def hfunc2(theta,x1,x2):\n",
    "    theta = np.matrix(theta)\n",
    "    temp = theta[0,0]\n",
    "    place = 0\n",
    "    for i in range(1,degree+1):\n",
    "        for j in range(0,i+1):\n",
    "            # 默认增加到最后一列\n",
    "            temp += np.power(x1,i-j).multiply(np.power(x2,j))*theta[0,place+1]\n",
    "            place+=1\n",
    "            pass\n",
    "        pass\n",
    "    return temp\n",
    "    pass\n",
    "\n",
    "\n",
    "def find_decision_boundary(theta):\n",
    "    t1 = np.linspace(-1,1.5,1000)\n",
    "    t2 = np.linspace(-1,1.5,1000)\n",
    "    \n",
    "    cordinates = [(x,y) for x in t1 for y in t2]\n",
    "    x_cord,y_cord = zip(*cordinates)\n",
    "    h_val = pd.DataFrame({'x1':x_cord,'x2':y_cord})\n",
    "    h_val['hval'] = hfunc2(theta,h_val['x1'],h_val['x2'])\n",
    "    \n",
    "    decision = h_val[np.abs(h_val['hval'])<2 * 10**-3]\n",
    "    return decision['x1'],decision['x2']"
   ]
  },
  {
   "cell_type": "code",
   "execution_count": 24,
   "metadata": {},
   "outputs": [
    {
     "data": {
      "image/png": "[encoded data removed]",
      "text/plain": [
       "<Figure size 864x576 with 1 Axes>"
      ]
     },
     "metadata": {
      "needs_background": "light"
     },
     "output_type": "display_data"
    }
   ],
   "source": [
    "# 作图\n",
    "_x,_y = find_decision_boundary(result2[0])\n",
    "plt.subplots(figsize=(12,8))\n",
    "plt.scatter(df1_new['Test1'].values.tolist(),df1_new['Test2'].values.tolist(),marker='o',label='Accept')\n",
    "plt.scatter(df2_new['Test1'].values.tolist(),df2['Test2'].values.tolist(),color='red',marker='x',label='Rejected')\n",
    "plt.scatter(_x,_y,color='green',marker='o',label='Prediction')\n",
    "plt.xlabel('Test1',size=14)\n",
    "plt.ylabel('Test2',size=14)\n",
    "plt.legend(loc='best')\n",
    "plt.show()"
   ]
  }
 ],
 "metadata": {
  "kernelspec": {
   "display_name": "Python [conda env:myPy3.6]",
   "language": "python",
   "name": "conda-env-myPy3.6-py"
  },
  "language_info": {
   "codemirror_mode": {
    "name": "ipython",
    "version": 3
   },
   "file_extension": ".py",
   "mimetype": "text/x-python",
   "name": "python",
   "nbconvert_exporter": "python",
   "pygments_lexer": "ipython3",
   "version": "3.6.10"
  }
 },
 "nbformat": 4,
 "nbformat_minor": 4
}
